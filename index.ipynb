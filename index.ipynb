{
 "cells": [
  {
   "cell_type": "code",
   "execution_count": 12,
   "metadata": {},
   "outputs": [
    {
     "data": {
      "text/html": [
       "<script>\n",
       "    $('#header').toggle()\n",
       "</script>\n"
      ],
      "text/plain": [
       "<IPython.core.display.HTML object>"
      ]
     },
     "metadata": {},
     "output_type": "display_data"
    }
   ],
   "source": [
    "%%html\n",
    "<script>\n",
    "    $('#header').toggle()\n",
    "</script>"
   ]
  },
  {
   "cell_type": "code",
   "execution_count": 1,
   "metadata": {},
   "outputs": [],
   "source": [
    "import ipywidgets as widgets\n",
    "import json\n",
    "import pandas as pd\n",
    "import requests\n",
    "from IPython.display import display, HTML, IFrame\n",
    "from pyvis.network import Network\n",
    "\n",
    "pd.options.display.max_rows = None"
   ]
  },
  {
   "cell_type": "code",
   "execution_count": 2,
   "metadata": {},
   "outputs": [],
   "source": [
    "layout_main = {\n",
    "    'width': '100%',\n",
    "    'height': '100%',\n",
    "}"
   ]
  },
  {
   "cell_type": "code",
   "execution_count": 3,
   "metadata": {},
   "outputs": [],
   "source": [
    "image_header = widgets.Image(\n",
    "    value=open('images/DI_NLP_Header.png', 'rb').read(),\n",
    "    format='png',\n",
    "    layout=layout_main,\n",
    ")"
   ]
  },
  {
   "cell_type": "code",
   "execution_count": 4,
   "metadata": {},
   "outputs": [],
   "source": [
    "input_url = widgets.Text(\n",
    "    placeholder='TextCat URL',\n",
    "    layout=layout_main,\n",
    ")\n",
    "input_text = widgets.Textarea(\n",
    "    placeholder='Text for analysis',\n",
    "    layout=layout_main,\n",
    ")"
   ]
  },
  {
   "cell_type": "code",
   "execution_count": 5,
   "metadata": {},
   "outputs": [],
   "source": [
    "output_timer = widgets.Output()\n",
    "output_text = widgets.Output()\n",
    "output_graph = widgets.Output()\n",
    "output_table = widgets.Output(\n",
    "    layout={\n",
    "        'width': '3000px',\n",
    "        'height': '100%',\n",
    "    },\n",
    ")\n",
    "output_group = widgets.Tab(\n",
    "    children=[\n",
    "        output_text,\n",
    "        output_graph,\n",
    "        output_table,\n",
    "    ],\n",
    "    layout=layout_main,\n",
    ")\n",
    "output_group.set_title(0, 'Text')\n",
    "output_group.set_title(1, 'Graph')\n",
    "output_group.set_title(2, 'Table')"
   ]
  },
  {
   "cell_type": "code",
   "execution_count": 6,
   "metadata": {},
   "outputs": [],
   "source": [
    "@output_timer.capture(clear_output=True, wait=True)\n",
    "def set_output_timer(data=[]):\n",
    "    if not data:\n",
    "        display(HTML('Error'))\n",
    "    else:\n",
    "        display(HTML('Done in: ' + str(data) + ' s'))\n",
    "\n",
    "@output_text.capture(clear_output=True, wait=True)\n",
    "def set_output_text(data=[]):\n",
    "    if not data:\n",
    "        display(HTML('Error'))\n",
    "    else:\n",
    "        display(HTML(data))\n",
    "\n",
    "@output_graph.capture(clear_output=True, wait=True)\n",
    "def set_output_graph(data=[], keys_display_order=[]):\n",
    "    if not data:\n",
    "        display(HTML('Error'))\n",
    "    else:\n",
    "        g_pyvis = Network(\n",
    "            notebook=True,\n",
    "            width='100%',\n",
    "            height='100%',\n",
    "        )\n",
    "        g_pyvis.add_nodes(\n",
    "            [ent['ent'] for ent in data],\n",
    "            color=[ent['colour'] for ent in data],\n",
    "            title=[\n",
    "                pd.DataFrame(\n",
    "                    [(key[1], ent[key[0]])\n",
    "                     for key in keys_display_order\n",
    "                     if key[0] in ent.keys()],\n",
    "                ).style.set_table_styles([\n",
    "                    {'selector': 'th.col_heading',\n",
    "                     'props': [('display', 'none')]},\n",
    "                    {'selector': 'th.row_heading',\n",
    "                     'props': [('display', 'none')]},\n",
    "                ]).render()\n",
    "                for ent in data\n",
    "            ],\n",
    "        )\n",
    "        g_pyvis.show('images/DI_NLP_Graph.html')\n",
    "        display(\n",
    "            IFrame(\n",
    "                'images/DI_NLP_Graph.html',\n",
    "                width='100%',\n",
    "                height='1000px',\n",
    "            ),\n",
    "        )\n",
    "\n",
    "@output_table.capture(clear_output=True, wait=True)\n",
    "def set_output_table(data=[], keys_display_order=[]):\n",
    "    if not data:\n",
    "        display(HTML('Error'))\n",
    "    else:\n",
    "        df = pd.DataFrame(\n",
    "            [[ent[key[0]] if key[0] in ent.keys() else ''\n",
    "              for key in keys_display_order]\n",
    "             for ent in sorted(data, key=lambda k:k['ent_type'])],\n",
    "            columns=[key[1] for key in keys_display_order],\n",
    "        )\n",
    "        df = df.style.set_table_styles([\n",
    "            {'selector': 'td',\n",
    "             'props': [('text-align', 'left')]},\n",
    "            {'selector': 'th.col_heading',\n",
    "             'props': [('text-align', 'left')]},\n",
    "            {'selector': 'th.row_heading',\n",
    "             'props': [('text-align', 'right')]},\n",
    "        ])\n",
    "        display(df)"
   ]
  },
  {
   "cell_type": "code",
   "execution_count": 7,
   "metadata": {},
   "outputs": [],
   "source": [
    "def textcat(dummy):\n",
    "    if input_url.value and input_text.value:\n",
    "        r = requests.post(\n",
    "            input_url.value,\n",
    "            data=json.dumps({'text': input_text.value}),\n",
    "            params={'return_app': 'true'},\n",
    "            headers={'Content-Type': 'application/json'},\n",
    "        )\n",
    "        if r.ok and r.json():\n",
    "            set_output_timer(r.json()['timer'])\n",
    "            set_output_text(r.json()['app']['html'])\n",
    "            set_output_graph(r.json()['ents'], r.json()['app']['keys_display_order'])\n",
    "            set_output_table(r.json()['ents'], r.json()['app']['keys_display_order'])\n",
    "        else:\n",
    "            set_output_timer()\n",
    "            set_output_text()\n",
    "            set_output_graph()\n",
    "            set_output_table()\n",
    "\n",
    "def clear(dummy):\n",
    "    input_text.value=''\n",
    "    output_timer.clear_output()\n",
    "    output_text.clear_output()\n",
    "    output_graph.clear_output()\n",
    "    output_table.clear_output()"
   ]
  },
  {
   "cell_type": "code",
   "execution_count": 8,
   "metadata": {},
   "outputs": [],
   "source": [
    "button_go = widgets.Button(\n",
    "    description='Go',\n",
    "    tooltip='Click to analyse text',\n",
    "    layout={\n",
    "        'width': '100px',\n",
    "    },\n",
    ")\n",
    "button_clear = widgets.Button(\n",
    "    description='Clear',\n",
    "    tooltip='Click to clear input and output',\n",
    "    layout={\n",
    "        'width': '100px',\n",
    "    },\n",
    ")\n",
    "button_go.on_click(textcat)\n",
    "button_clear.on_click(clear)"
   ]
  },
  {
   "cell_type": "code",
   "execution_count": 10,
   "metadata": {
    "scrolled": false
   },
   "outputs": [
    {
     "data": {
      "application/vnd.jupyter.widget-view+json": {
       "model_id": "1762c155d61347e29a2730a0596f2594",
       "version_major": 2,
       "version_minor": 0
      },
      "text/plain": [
       "VBox(children=(Image(value=b'\\x89PNG\\r\\n\\x1a\\n\\x00\\x00\\x00\\rIHDR\\x00\\x00\\x05x\\x00\\x00\\x01^\\x08\\x06\\x00\\x00\\x00…"
      ]
     },
     "metadata": {},
     "output_type": "display_data"
    }
   ],
   "source": [
    "VBox_main = widgets.VBox(\n",
    "    children=[\n",
    "        image_header,\n",
    "        input_url,\n",
    "        input_text,\n",
    "        widgets.HBox(\n",
    "            children=[\n",
    "                button_go,\n",
    "                button_clear,\n",
    "                output_timer,\n",
    "            ],\n",
    "        ),\n",
    "        output_group,\n",
    "    ],\n",
    "    layout={\n",
    "        'width': '90%',\n",
    "        'left': '10%',\n",
    "        'padding': '5px',\n",
    "#         'border': '1px solid black',\n",
    "    },\n",
    ")\n",
    "display(VBox_main)"
   ]
  }
 ],
 "metadata": {
  "kernelspec": {
   "display_name": "Python 3",
   "language": "python",
   "name": "python3"
  },
  "language_info": {
   "codemirror_mode": {
    "name": "ipython",
    "version": 3
   },
   "file_extension": ".py",
   "mimetype": "text/x-python",
   "name": "python",
   "nbconvert_exporter": "python",
   "pygments_lexer": "ipython3",
   "version": "3.7.1"
  }
 },
 "nbformat": 4,
 "nbformat_minor": 2
}
